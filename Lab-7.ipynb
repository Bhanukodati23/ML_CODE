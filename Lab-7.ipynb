{
 "cells": [
  {
   "cell_type": "code",
   "execution_count": 2,
   "id": "9a30390b",
   "metadata": {},
   "outputs": [
    {
     "name": "stdout",
     "output_type": "stream",
     "text": [
      "Support Vectors:\n",
      "[[4.1480e+03 8.1000e+01 0.0000e+00 0.0000e+00 7.1180e+01 2.3900e+01]\n",
      " [6.7603e+04 7.0000e+01 0.0000e+00 0.0000e+00 2.2368e+02 3.4300e+01]\n",
      " [6.0258e+04 8.0000e+01 0.0000e+00 1.0000e+00 9.8390e+01 2.2200e+01]\n",
      " ...\n",
      " [4.6510e+03 7.8000e+01 0.0000e+00 0.0000e+00 7.8030e+01 2.3900e+01]\n",
      " [3.1154e+04 3.9000e+01 0.0000e+00 0.0000e+00 9.7760e+01 2.9600e+01]\n",
      " [2.4669e+04 7.7000e+01 0.0000e+00 1.0000e+00 2.3156e+02 3.6900e+01]]\n",
      "Number of support vectors for each class: [212 156]\n"
     ]
    }
   ],
   "source": [
    "import numpy as np\n",
    "import pandas as pd\n",
    "\n",
    "# Load the data\n",
    "data =pd.read_csv(\"ml_dataset.csv\")\n",
    "\n",
    "data = data.drop(columns=['gender','work_type','ever_married','Residence_type','smoking_status']) \n",
    "\n",
    "data.dropna(axis=0, inplace=True)\n",
    "\n",
    "# Preprocess the data\n",
    "X = data.drop(columns=['stroke']).to_numpy() \n",
    "y = data['stroke'].to_numpy()\n",
    "\n",
    "import numpy as np\n",
    "from sklearn import svm\n",
    "from sklearn.model_selection import train_test_split\n",
    "X_train, X_test, y_train, y_test = train_test_split(X, y, test_size=0.2, random_state=42)\n",
    "# Create an instance of the SVM classifier\n",
    "clf = svm.SVC()\n",
    "\n",
    "# Train the SVM model with the training data\n",
    "clf.fit(X_train, y_train)\n",
    "\n",
    "# Get the support vectors\n",
    "support_vectors = clf.support_vectors_\n",
    "\n",
    "# Number of support vectors for each class\n",
    "n_support_vectors = clf.n_support_\n",
    "\n",
    "print(\"Support Vectors:\")\n",
    "print(support_vectors)\n",
    "print(\"Number of support vectors for each class:\", n_support_vectors)\n"
   ]
  },
  {
   "cell_type": "code",
   "execution_count": 3,
   "id": "4c8ac176",
   "metadata": {},
   "outputs": [
    {
     "name": "stdout",
     "output_type": "stream",
     "text": [
      "Accuracy: 0.9460285132382892\n"
     ]
    }
   ],
   "source": [
    "accuracy = clf.score(X_test, y_test)\n",
    "print(\"Accuracy:\", accuracy)"
   ]
  },
  {
   "cell_type": "code",
   "execution_count": 4,
   "id": "61a976ce",
   "metadata": {},
   "outputs": [],
   "source": [
    "y_pred = clf.predict(X_test)"
   ]
  },
  {
   "cell_type": "code",
   "execution_count": 5,
   "id": "75db736c",
   "metadata": {},
   "outputs": [
    {
     "name": "stdout",
     "output_type": "stream",
     "text": [
      "Accuracy (Linear Kernel): 0.945010183299389\n"
     ]
    }
   ],
   "source": [
    "clf_linear = svm.SVC(kernel='linear')\n",
    "clf_linear.fit(X_train, y_train)\n",
    "accuracy_linear = clf_linear.score(X_test, y_test)\n",
    "print(\"Accuracy (Linear Kernel):\", accuracy_linear)"
   ]
  },
  {
   "cell_type": "code",
   "execution_count": 6,
   "id": "37c11956",
   "metadata": {},
   "outputs": [
    {
     "name": "stdout",
     "output_type": "stream",
     "text": [
      "Accuracy (Polynomial Kernel): 0.9460285132382892\n"
     ]
    }
   ],
   "source": [
    "clf_poly = svm.SVC(kernel='poly')\n",
    "clf_poly.fit(X_train, y_train)\n",
    "accuracy_poly = clf_poly.score(X_test, y_test)\n",
    "print(\"Accuracy (Polynomial Kernel):\", accuracy_poly)\n"
   ]
  },
  {
   "cell_type": "code",
   "execution_count": 7,
   "id": "6c39c8e3",
   "metadata": {},
   "outputs": [
    {
     "name": "stdout",
     "output_type": "stream",
     "text": [
      "Accuracy (RBF Kernel): 0.9460285132382892\n"
     ]
    }
   ],
   "source": [
    "clf_rbf = svm.SVC(kernel='rbf')\n",
    "clf_rbf.fit(X_train, y_train)\n",
    "accuracy_rbf = clf_rbf.score(X_test, y_test)\n",
    "print(\"Accuracy (RBF Kernel):\", accuracy_rbf)\n"
   ]
  }
 ],
 "metadata": {
  "kernelspec": {
   "display_name": "Python 3 (ipykernel)",
   "language": "python",
   "name": "python3"
  },
  "language_info": {
   "codemirror_mode": {
    "name": "ipython",
    "version": 3
   },
   "file_extension": ".py",
   "mimetype": "text/x-python",
   "name": "python",
   "nbconvert_exporter": "python",
   "pygments_lexer": "ipython3",
   "version": "3.11.4"
  }
 },
 "nbformat": 4,
 "nbformat_minor": 5
}
