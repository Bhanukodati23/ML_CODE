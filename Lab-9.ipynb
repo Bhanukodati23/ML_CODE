{
 "cells": [
  {
   "cell_type": "code",
   "execution_count": null,
   "id": "921acc07",
   "metadata": {},
   "outputs": [],
   "source": [
    "# Merge your train & test sets and remove the class labels. Use k-means algorithm with k = 3 or 5 \n",
    "# (based on your dataset) to form the clusters"
   ]
  }
 ],
 "metadata": {
  "kernelspec": {
   "display_name": "Python 3 (ipykernel)",
   "language": "python",
   "name": "python3"
  },
  "language_info": {
   "codemirror_mode": {
    "name": "ipython",
    "version": 3
   },
   "file_extension": ".py",
   "mimetype": "text/x-python",
   "name": "python",
   "nbconvert_exporter": "python",
   "pygments_lexer": "ipython3",
   "version": "3.11.4"
  }
 },
 "nbformat": 4,
 "nbformat_minor": 5
}
