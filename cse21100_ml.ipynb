{
 "cells": [
  {
   "cell_type": "code",
   "execution_count": 9,
   "id": "69a708a9",
   "metadata": {},
   "outputs": [
    {
     "name": "stdout",
     "output_type": "stream",
     "text": [
      "Final Weights:\n",
      "b = 30.000000000000284\n",
      "W1 = 10.20000000000001\n",
      "W2 = 9.249999999999998\n"
     ]
    }
   ],
   "source": [
    "import numpy as np\n",
    "\n",
    "# Initialize weights and bias\n",
    "b= 10\n",
    "W1 = 0.2\n",
    "W2 = -0.75\n",
    "n = 0.05\n",
    "\n",
    "# Define the activation function (step function in this case)\n",
    "def activate(z):\n",
    "    if z >= 0:\n",
    "        return 1\n",
    "    else:\n",
    "        return 0\n",
    "\n",
    "# Define the perceptron function\n",
    "def percept(in_data, weights):\n",
    "    # Calculate the weighted sum of inputs\n",
    "    z = b + np.dot(in_data, weights)\n",
    "    # Apply the activation function\n",
    "    output = activate(z)\n",
    "    return output\n",
    "\n",
    "# Training data (you can modify this as needed)\n",
    "in_data = np.array([[0, 0], [0, 1], [1, 0], [1, 1]])  # Two input features\n",
    "target_out = np.array([0, 0, 0, 1])  # Adjust this for your specific problem\n",
    "\n",
    "# Training loop\n",
    "ep = 100  # Number of training iterations\n",
    "for ep in range(ep):\n",
    "    for i in range(len(in_data)):\n",
    "        # Compute the predicted output\n",
    "        predict = percept(in_data[i], [W1, W2])\n",
    "        # Compute the error\n",
    "        er = target_out[i] - predict\n",
    "        # Update the weights and bias\n",
    "        b = b + n * error\n",
    "        W1 = W1 + n * error * in_data[i][0]\n",
    "        W2 = W2 + n * error * in_data[i][1]\n",
    "\n",
    "# Print the final weights\n",
    "print(\"Final Weights:\")\n",
    "print(\"b =\", b)\n",
    "print(\"W1 =\", W1)\n",
    "print(\"W2 =\", W2)"
   ]
  }
 ],
 "metadata": {
  "kernelspec": {
   "display_name": "Python 3 (ipykernel)",
   "language": "python",
   "name": "python3"
  },
  "language_info": {
   "codemirror_mode": {
    "name": "ipython",
    "version": 3
   },
   "file_extension": ".py",
   "mimetype": "text/x-python",
   "name": "python",
   "nbconvert_exporter": "python",
   "pygments_lexer": "ipython3",
   "version": "3.11.4"
  }
 },
 "nbformat": 4,
 "nbformat_minor": 5
}
